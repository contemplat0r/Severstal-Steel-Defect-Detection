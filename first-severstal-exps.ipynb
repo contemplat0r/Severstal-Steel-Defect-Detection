{
 "cells": [
  {
   "cell_type": "code",
   "execution_count": null,
   "metadata": {},
   "outputs": [],
   "source": [
    "import gc\n",
    "import importlib\n",
    "import random\n",
    "import pathlib\n",
    "import os\n",
    "import time\n",
    "\n",
    "import numpy as np\n",
    "import pandas as pd\n",
    "import sklearn\n",
    "from sklearn.model_selection import train_test_split\n",
    "\n",
    "import matplotlib.pyplot as plt\n",
    "import seaborn as sns\n",
    "\n",
    "import PIL\n",
    "import skimage\n",
    "from skimage import exposure, img_as_float\n",
    "import cv2\n",
    "import tensorflow as tf\n",
    "#tf.enable_eager_execution()"
   ]
  },
  {
   "cell_type": "code",
   "execution_count": null,
   "metadata": {},
   "outputs": [],
   "source": [
    "%matplotlib inline"
   ]
  },
  {
   "cell_type": "code",
   "execution_count": null,
   "metadata": {},
   "outputs": [],
   "source": [
    "#tf.enable_eager_execution()"
   ]
  },
  {
   "cell_type": "code",
   "execution_count": null,
   "metadata": {},
   "outputs": [],
   "source": [
    "def select_objects(indexes_list, objects_names):\n",
    "    return tuple(objects_names[i] for i in indexes_list)"
   ]
  },
  {
   "cell_type": "code",
   "execution_count": null,
   "metadata": {},
   "outputs": [],
   "source": [
    "def select_random_indexses_subset(size, subset_size):\n",
    "    return random.sample(tuple(range(size)), subset_size)"
   ]
  },
  {
   "cell_type": "code",
   "execution_count": null,
   "metadata": {},
   "outputs": [],
   "source": [
    "def random_objects_select(objects_names, subset_size):\n",
    "    objects_names_len = len(objects_names)\n",
    "    indexes = select_random_indexses_subset(objects_names_len, subset_size)\n",
    "    return select_objects(indexes, objects_names)"
   ]
  },
  {
   "cell_type": "code",
   "execution_count": null,
   "metadata": {},
   "outputs": [],
   "source": [
    "def compute_whole_image_mean_brightnes(image):\n",
    "    return image.mean()"
   ]
  },
  {
   "cell_type": "code",
   "execution_count": null,
   "metadata": {},
   "outputs": [],
   "source": [
    "def show_images_grid(images_list, columns_num, figsize, images_names_list=None):\n",
    "    rows_num = len(images_list) // columns_num\n",
    "    fig, ax = plt.subplots(rows_num, columns_num, figsize=figsize)\n",
    "    images_list_len = len(images_list)\n",
    "    slice_len = columns_num\n",
    "    images_list_slices_len = images_list_len // slice_len\n",
    "    images_names_list_slices = []\n",
    "    images_list_slices = [\n",
    "        images_list[i * slice_len:(i+1) * slice_len]\\\n",
    "        for i in range(images_list_slices_len)\n",
    "    ]\n",
    "    if images_names_list:\n",
    "        images_names_list_slices = [\n",
    "            images_names_list[i * slice_len:(i+1) * slice_len]\\\n",
    "            for i in range(images_list_slices_len)\n",
    "        ]\n",
    "    #print(\"show_images_grid, images_names_list_slices:\\n\", images_names_list_slices)\n",
    "    for i in range(ax.shape[0]):\n",
    "        images_list_slice = images_list_slices[i]\n",
    "        images_names_list_slice = []\n",
    "        if images_names_list:\n",
    "            images_names_list_slice = images_names_list_slices[i]\n",
    "        #images_list_0 = [images_pair[0] for images_pair in paired_images_list_slice]\n",
    "        #images_list_1 = [images_pair[1] for images_pair in paired_images_list_slice]\n",
    "        for j in range(columns_num):\n",
    "            if images_names_list:\n",
    "                #print(\"show_images_grid, images_names_list_slice[{}]:\\n\".format(j), images_names_list_slice[j])\n",
    "                ax[i, j].set_title(images_names_list_slice[j])            \n",
    "            ax[i, j].imshow(images_list_slice[j])\n",
    "\n",
    "            #ax[2 * i + 1, j].imshow(images_list_1[j])\n",
    "    plt.tight_layout()\n",
    "    plt.show()"
   ]
  },
  {
   "cell_type": "code",
   "execution_count": null,
   "metadata": {},
   "outputs": [],
   "source": [
    "def draw_images_with_histograms(images_list, columns_num, figsize, nbins):\n",
    "    rows_num = 3 * len(images_list) // columns_num\n",
    "    fig, ax = plt.subplots(rows_num, columns_num, figsize=figsize)\n",
    "    images_list_len = len(images_list)\n",
    "    slice_len = columns_num\n",
    "    images_list_slices_len = images_list_len // slice_len\n",
    "    images_list_slices = [\n",
    "    images_list[i * slice_len:(i+1) * slice_len]\\\n",
    "        for i in range(images_list_slices_len)\n",
    "    ]\n",
    "    for i in range(ax.shape[0] // 3):\n",
    "        images_list_slice = images_list_slices[i]\n",
    "        for j in range(columns_num):\n",
    "            ax[3 * i, j].imshow(images_list_slice[j])\n",
    "            ax[3 * i, j].grid(False)\n",
    "            img_cdf, cdf_bins = exposure.cumulative_distribution(images_list_slice[j].flatten())\n",
    "            ax[3 * i + 1, j].hist(exposure.histogram(images_list_slice[j].flatten(), nbins=nbins))\n",
    "            ax[3 * i + 2, j].plot(cdf_bins, img_cdf, color='green')\n",
    "    plt.show()"
   ]
  },
  {
   "cell_type": "code",
   "execution_count": null,
   "metadata": {},
   "outputs": [],
   "source": [
    "ls ../input/"
   ]
  },
  {
   "cell_type": "code",
   "execution_count": null,
   "metadata": {},
   "outputs": [],
   "source": [
    "train_images_dir = '../input/train/'\n",
    "test_images_dir = '../input/test'"
   ]
  },
  {
   "cell_type": "code",
   "execution_count": null,
   "metadata": {},
   "outputs": [],
   "source": [
    "#train_images_names = os.listdir(train_images_dir)\n",
    "train_images_names = pathlib.Path().glob('../input/train/*')\n",
    "for img_name in tuple(train_images_names)[:10]:\n",
    "    print(img_name)"
   ]
  },
  {
   "cell_type": "code",
   "execution_count": null,
   "metadata": {},
   "outputs": [],
   "source": [
    "train_df = pd.read_csv('../input/train.csv')"
   ]
  },
  {
   "cell_type": "code",
   "execution_count": null,
   "metadata": {},
   "outputs": [],
   "source": [
    "train_df.info()"
   ]
  },
  {
   "cell_type": "code",
   "execution_count": null,
   "metadata": {},
   "outputs": [],
   "source": [
    "train_df.describe()"
   ]
  },
  {
   "cell_type": "code",
   "execution_count": null,
   "metadata": {},
   "outputs": [],
   "source": [
    "train_df.head()"
   ]
  },
  {
   "cell_type": "code",
   "execution_count": null,
   "metadata": {},
   "outputs": [],
   "source": [
    "#image_ids_and_class_ids = train_df['ImageId_ClassId'].map(lambda x: x.split('_'))"
   ]
  },
  {
   "cell_type": "code",
   "execution_count": null,
   "metadata": {},
   "outputs": [],
   "source": [
    "#type(image_ids_and_class_ids)"
   ]
  },
  {
   "cell_type": "code",
   "execution_count": null,
   "metadata": {},
   "outputs": [],
   "source": [
    "#image_ids_and_class_ids.head()"
   ]
  },
  {
   "cell_type": "code",
   "execution_count": null,
   "metadata": {},
   "outputs": [],
   "source": [
    "#type(image_ids_and_class_ids[0])"
   ]
  },
  {
   "cell_type": "code",
   "execution_count": null,
   "metadata": {},
   "outputs": [],
   "source": [
    "# image_descriptions_df = pd.DataFrame(\n",
    "#     {'image_id': image_ids_and_class_ids[:][0], 'class_id': image_ids_and_class_ids[:][1]})"
   ]
  },
  {
   "cell_type": "code",
   "execution_count": null,
   "metadata": {},
   "outputs": [],
   "source": [
    "#image_descriptions_df.head()"
   ]
  },
  {
   "cell_type": "code",
   "execution_count": null,
   "metadata": {},
   "outputs": [],
   "source": [
    "image_descriptions_list = [row.split('_') for row in train_df['ImageId_ClassId']]"
   ]
  },
  {
   "cell_type": "code",
   "execution_count": null,
   "metadata": {},
   "outputs": [],
   "source": [
    "image_descriptions_list[:10]"
   ]
  },
  {
   "cell_type": "code",
   "execution_count": null,
   "metadata": {},
   "outputs": [],
   "source": [
    "train_df['image_name'] = [image_name for image_name, _ in image_descriptions_list]"
   ]
  },
  {
   "cell_type": "code",
   "execution_count": null,
   "metadata": {},
   "outputs": [],
   "source": [
    "train_df.head()"
   ]
  },
  {
   "cell_type": "code",
   "execution_count": null,
   "metadata": {},
   "outputs": [],
   "source": [
    "train_df['image_class'] = [image_class for _, image_class in image_descriptions_list]"
   ]
  },
  {
   "cell_type": "code",
   "execution_count": null,
   "metadata": {},
   "outputs": [],
   "source": [
    "train_df.head()"
   ]
  },
  {
   "cell_type": "code",
   "execution_count": null,
   "metadata": {},
   "outputs": [],
   "source": [
    "all([len(image_class) == 1 for _, image_class in image_descriptions_list])"
   ]
  },
  {
   "cell_type": "code",
   "execution_count": null,
   "metadata": {},
   "outputs": [],
   "source": [
    "#train_image_names = [image_class for _, image_class in image_descriptions_list]\n",
    "len(train_image_names)"
   ]
  },
  {
   "cell_type": "code",
   "execution_count": null,
   "metadata": {},
   "outputs": [],
   "source": [
    "train_image_names[:4]"
   ]
  },
  {
   "cell_type": "code",
   "execution_count": null,
   "metadata": {},
   "outputs": [],
   "source": [
    "#full_image_path = pathlib.Path.joinpath(pathlib.Path(train_images_dir), pathlib.Path(train_image_names[0]))"
   ]
  },
  {
   "cell_type": "code",
   "execution_count": null,
   "metadata": {},
   "outputs": [],
   "source": [
    "#full_image_path.as_posix()"
   ]
  },
  {
   "cell_type": "code",
   "execution_count": null,
   "metadata": {},
   "outputs": [],
   "source": [
    "train_images_dict = {\n",
    "    image_name: cv2.imread(os.path.join(train_images_dir, image_name)) for image_name in train_image_names\n",
    "}"
   ]
  },
  {
   "cell_type": "code",
   "execution_count": null,
   "metadata": {},
   "outputs": [],
   "source": [
    "train_images_num = train_df.shape[0]\n",
    "train_images_names_sample = random_objects_select(tuple(train_image_names), int(train_images_num / 4))\n",
    "print(type(train_images_names_sample))\n",
    "print(train_images_names_sample[:5])"
   ]
  },
  {
   "cell_type": "code",
   "execution_count": null,
   "metadata": {},
   "outputs": [],
   "source": [
    "train_images = tuple(train_images_dict.values())"
   ]
  },
  {
   "cell_type": "code",
   "execution_count": null,
   "metadata": {},
   "outputs": [],
   "source": [
    "#train_images[0]"
   ]
  },
  {
   "cell_type": "code",
   "execution_count": null,
   "metadata": {},
   "outputs": [],
   "source": [
    "images_subsample = [train_images_dict[img_name] for img_name in train_images_names_sample[:40]]"
   ]
  },
  {
   "cell_type": "code",
   "execution_count": null,
   "metadata": {},
   "outputs": [],
   "source": [
    "#images_subsample = [train_images_dict[img_name] for img_name in image_names_subsample]"
   ]
  },
  {
   "cell_type": "code",
   "execution_count": null,
   "metadata": {},
   "outputs": [],
   "source": [
    "show_images_grid(images_subsample, 8, (24, 24), images_names_list=train_images_names_sample[:40])"
   ]
  },
  {
   "cell_type": "code",
   "execution_count": null,
   "metadata": {},
   "outputs": [],
   "source": [
    "draw_images_with_histograms(images_subsample, 8, (24, 24), 20)"
   ]
  },
  {
   "cell_type": "code",
   "execution_count": null,
   "metadata": {},
   "outputs": [],
   "source": [
    "train_images_mean_brightness = [\n",
    "    compute_whole_image_mean_brightnes(image) for image in train_images\n",
    "]"
   ]
  },
  {
   "cell_type": "code",
   "execution_count": null,
   "metadata": {},
   "outputs": [],
   "source": [
    "fig = plt.figure(figsize=(24, 24))\n",
    "ax = fig.add_subplot(111)\n",
    "ax.hist(train_images_mean_brightness, bins=600)\n",
    "ax.set_title(\"Mean brightnes distribution for train images\")\n",
    "#ax.set(title=\"Mean brightnes distribution for images with chips\")\n",
    "ax.set_xlabel(\"Mean brightness\")\n",
    "ax.set_ylabel(\"Num of images\")\n",
    "plt.show()"
   ]
  },
  {
   "cell_type": "code",
   "execution_count": null,
   "metadata": {},
   "outputs": [],
   "source": [
    "print(min(train_images_mean_brightness))\n",
    "print(max(train_images_mean_brightness))"
   ]
  },
  {
   "cell_type": "code",
   "execution_count": null,
   "metadata": {},
   "outputs": [],
   "source": [
    "print(len(train_images_mean_brightness))"
   ]
  },
  {
   "cell_type": "code",
   "execution_count": null,
   "metadata": {},
   "outputs": [],
   "source": [
    "set_train_images_mean_brightness = set(train_images_mean_brightness)"
   ]
  },
  {
   "cell_type": "code",
   "execution_count": null,
   "metadata": {},
   "outputs": [],
   "source": [
    "print(len(set_train_images_mean_brightness))"
   ]
  },
  {
   "cell_type": "code",
   "execution_count": null,
   "metadata": {},
   "outputs": [],
   "source": [
    "train_df.head()"
   ]
  },
  {
   "cell_type": "code",
   "execution_count": null,
   "metadata": {},
   "outputs": [],
   "source": [
    "images_name = train_df['image_name']\n",
    "images_class = train_df['image_class']"
   ]
  },
  {
   "cell_type": "code",
   "execution_count": null,
   "metadata": {},
   "outputs": [],
   "source": [
    "images_name[0]"
   ]
  },
  {
   "cell_type": "code",
   "execution_count": null,
   "metadata": {},
   "outputs": [],
   "source": [
    "#img_tensor = tf.image.decode_image(img_raw)\n",
    "img_raw = tf.io.read_file(train_images_dir + images_name[0])"
   ]
  },
  {
   "cell_type": "code",
   "execution_count": null,
   "metadata": {},
   "outputs": [],
   "source": [
    "type(img_raw)"
   ]
  },
  {
   "cell_type": "code",
   "execution_count": null,
   "metadata": {},
   "outputs": [],
   "source": [
    "img_tensor = tf.image.decode_image(img_raw)"
   ]
  },
  {
   "cell_type": "code",
   "execution_count": null,
   "metadata": {},
   "outputs": [],
   "source": [
    "print(img_tensor.shape)\n",
    "print(img_tensor.dtype)"
   ]
  },
  {
   "cell_type": "code",
   "execution_count": null,
   "metadata": {},
   "outputs": [],
   "source": [
    "#el X, train_images_dict\n",
    "gc.collect()"
   ]
  },
  {
   "cell_type": "code",
   "execution_count": null,
   "metadata": {},
   "outputs": [],
   "source": [
    "def preprocess_image(image):\n",
    "    #image = tf.image.decode_jpeg(image, channels=3)\n",
    "    image = tf.image.decode_jpeg(image, channels=1)\n",
    "    #image = tf.image.resize(image, [192, 192])\n",
    "    image /= 255.0  # normalize to [0,1] range\n",
    "    return image"
   ]
  },
  {
   "cell_type": "code",
   "execution_count": null,
   "metadata": {},
   "outputs": [],
   "source": []
  },
  {
   "cell_type": "code",
   "execution_count": null,
   "metadata": {},
   "outputs": [],
   "source": []
  },
  {
   "cell_type": "code",
   "execution_count": null,
   "metadata": {},
   "outputs": [],
   "source": []
  },
  {
   "cell_type": "code",
   "execution_count": null,
   "metadata": {},
   "outputs": [],
   "source": [
    "img_names_train, img_names_holdout, img_clasess_train, img_classes_holdout = train_test_split(\n",
    "    images_name,\n",
    "    images_class,\n",
    "    test_size=0.25,\n",
    "    random_state=42\n",
    ")"
   ]
  },
  {
   "cell_type": "code",
   "execution_count": null,
   "metadata": {},
   "outputs": [],
   "source": [
    "def read_image(filename, image_class):\n",
    "    image_decoded = cv2.imread(filename.decode(), cv2.IMREAD_GRAYSCALE)\n",
    "    return image_decoded, image_class"
   ]
  },
  {
   "cell_type": "code",
   "execution_count": null,
   "metadata": {},
   "outputs": [],
   "source": [
    "#def parse_function(filename, label):\n",
    "def read_image(filename, label):\n",
    "    image_string = tf.read_file(filename)\n",
    "\n",
    "    # Don't use tf.image.decode_image, or the output shape will be undefined\n",
    "    #image = tf.image.decode_jpeg(image_string, channels=3)\n",
    "    image = tf.image.decode_jpeg(image_string, channels=1)\n",
    "\n",
    "    # This will convert to float values in [0, 1]\n",
    "    image = tf.image.convert_image_dtype(image, tf.float32)\n",
    "\n",
    "    #image = tf.image.resize_images(image, [64, 64])\n",
    "    return resized_image, label"
   ]
  },
  {
   "cell_type": "code",
   "execution_count": null,
   "metadata": {},
   "outputs": [],
   "source": [
    "train_dataset_names = tf.data.Dataset.from_tensor_slices((img_names_train, img_clasess_train))"
   ]
  },
  {
   "cell_type": "code",
   "execution_count": null,
   "metadata": {},
   "outputs": [],
   "source": [
    "validation_dataset_names = tf.data.Dataset.from_tensor_slices((img_names_holdout, img_classes_holdout))"
   ]
  },
  {
   "cell_type": "code",
   "execution_count": null,
   "metadata": {},
   "outputs": [],
   "source": [
    "train_dataset = train_dataset_names.map(\n",
    "    lambda img_name, img_class: tuple(\n",
    "        tf.py_func(\n",
    "            read_image,\n",
    "            [img_name, img_class],\n",
    "            [tf.float32, img_class.dtype]\n",
    "        )\n",
    "    )\n",
    ")"
   ]
  },
  {
   "cell_type": "code",
   "execution_count": null,
   "metadata": {},
   "outputs": [],
   "source": [
    "validation_dataset = validation_dataset_names.map(\n",
    "    lambda img_name, img_class: tuple(\n",
    "        tf.py_func(\n",
    "            read_image,\n",
    "            [img_name, img_class],\n",
    "            [tf.float32, img_class.dtype]\n",
    "        )\n",
    "    )\n",
    ")"
   ]
  },
  {
   "cell_type": "code",
   "execution_count": null,
   "metadata": {},
   "outputs": [],
   "source": []
  },
  {
   "cell_type": "code",
   "execution_count": null,
   "metadata": {},
   "outputs": [],
   "source": [
    "n_inputs = 1600 * 250\n",
    "n_hidden1 = 300\n",
    "n_hidden2 = 100\n",
    "n_outputs = 5"
   ]
  },
  {
   "cell_type": "code",
   "execution_count": null,
   "metadata": {},
   "outputs": [],
   "source": [
    "X = tf.placeholder(tf.float32, shape=(None, n_inputs), name='X')\n",
    "y = tf.placeholder(tf.int64, shape=(None, ), name='y')"
   ]
  },
  {
   "cell_type": "code",
   "execution_count": null,
   "metadata": {},
   "outputs": [],
   "source": [
    "with tf.name_scope('dnn'):\n",
    "    hidden1 = tf.layers.dense(X, n_hidden1, name='hidden1', activation=tf.nn.relu)\n",
    "    hidden2 = tf.layers.dense(hidden1, n_hidden2, name='hidden2', activation=tf.nn.relu)\n",
    "    logits = tf.layers.dense(hidden2, n_outputs, name='outputs')"
   ]
  },
  {
   "cell_type": "code",
   "execution_count": null,
   "metadata": {},
   "outputs": [],
   "source": [
    "with tf.name_scope('loss'):\n",
    "    xentropy = tf.nn.sparse_softmax_cross_entropy_with_logits(labels=y, logits=logits)\n",
    "    loss = tf.reduce_mean(xentropy, name='loss')"
   ]
  },
  {
   "cell_type": "code",
   "execution_count": null,
   "metadata": {},
   "outputs": [],
   "source": [
    "learning_rate = 0.01\n",
    "with tf.name_scope('train'):\n",
    "    optimizer = tf.train.GradientDescentOptimizer(learning_rate)\n",
    "    training_op = optimizer.minimize(loss)"
   ]
  },
  {
   "cell_type": "code",
   "execution_count": null,
   "metadata": {},
   "outputs": [],
   "source": [
    "with tf.name_scope('eval'):\n",
    "    correct = tf.nn.in_top_k(logits, y, 1)\n",
    "    accuracy = tf.reduce_mean(tf.cast(correct, tf.float32))"
   ]
  },
  {
   "cell_type": "code",
   "execution_count": null,
   "metadata": {},
   "outputs": [],
   "source": [
    "init = tf.global_variables_initializer()\n",
    "saver = tf.train.Saver()"
   ]
  },
  {
   "cell_type": "code",
   "execution_count": null,
   "metadata": {},
   "outputs": [],
   "source": [
    "n_epoch = 10\n",
    "batch_size = 64\n",
    "batch_nums = len(img_names_train) // batch_size\n",
    "valid_batch_nums = len(img_names_holdout) // batch_size"
   ]
  },
  {
   "cell_type": "code",
   "execution_count": null,
   "metadata": {},
   "outputs": [],
   "source": [
    "batched_train_dataset = train_dataset.batch(batch_size)\n",
    "batched_valid_dataset = validation_dataset.batch(batch_size)"
   ]
  },
  {
   "cell_type": "code",
   "execution_count": null,
   "metadata": {},
   "outputs": [],
   "source": [
    "train_iterator = batched_train_dataset.make_initializable_iterator()\n",
    "valid_iterator = batched_valid_dataset.make_initializable_iterator()"
   ]
  },
  {
   "cell_type": "code",
   "execution_count": null,
   "metadata": {},
   "outputs": [],
   "source": [
    "next_train_element = train_iterator.get_next()\n",
    "next_valid_element = valid_iterator.get_next()"
   ]
  },
  {
   "cell_type": "code",
   "execution_count": null,
   "metadata": {},
   "outputs": [],
   "source": [
    "with tf.Session() as sess:\n",
    "    #tf.enable_eager_execution()\n",
    "    init.run()\n",
    "    acc_train = 0\n",
    "    acc_valid = 0\n",
    "    for epoch in range(n_epoch):\n",
    "        sess.run(train_iterator.initializer)\n",
    "        sess.run(valid_iterator.initializer)\n",
    "        for iteration in range(batch_nums):\n",
    "            #X_batch, y_batch = train_batch_iterator()\n",
    "            #X_batch, y_batch = sess.run(next_train_element)\n",
    "            sess.run(next_train_element)\n",
    "            sess.run(training_op, feed_dict={X: X_batch, y: y_batch})\n",
    "            acc_train += accuracy.eval(feed_dict={X: X_batch, y: y_batch})\n",
    "        for _ in range(valid_batch_nums):\n",
    "            X_valid, y_valid = sess.run(next_valid_element)\n",
    "            acc_valid += accuracy.eval(feed_dict={X: X_valid, y: y_valid})\n",
    "        print(epoch, \"Train accuracy:\", acc_train / batch_nums, \"Test accuracy:\", acc_test / valid_batch_nums)\n",
    "    save_path = saver.save(sess, \"./simple_nn.ckpt\")"
   ]
  },
  {
   "cell_type": "code",
   "execution_count": null,
   "metadata": {},
   "outputs": [],
   "source": []
  }
 ],
 "metadata": {
  "kernelspec": {
   "display_name": "Python 3",
   "language": "python",
   "name": "python3"
  },
  "language_info": {
   "codemirror_mode": {
    "name": "ipython",
    "version": 3
   },
   "file_extension": ".py",
   "mimetype": "text/x-python",
   "name": "python",
   "nbconvert_exporter": "python",
   "pygments_lexer": "ipython3",
   "version": "3.6.6"
  }
 },
 "nbformat": 4,
 "nbformat_minor": 2
}
