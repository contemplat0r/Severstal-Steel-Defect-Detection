{
 "cells": [
  {
   "cell_type": "code",
   "execution_count": 64,
   "metadata": {},
   "outputs": [],
   "source": [
    "import os\n",
    "import time\n",
    "\n",
    "import numpy as np\n",
    "import pandas as pd\n",
    "import matplotlib.pyplot as plt\n",
    "\n",
    "import torch\n",
    "from torch.autograd import Variable\n",
    "import torch.nn as nn\n",
    "import torch.nn.functional as F\n",
    "import torch.optim as optim\n",
    "from torchvision import datasets, transforms"
   ]
  },
  {
   "cell_type": "code",
   "execution_count": 65,
   "metadata": {},
   "outputs": [],
   "source": [
    "%matplotlib inline"
   ]
  },
  {
   "cell_type": "code",
   "execution_count": 2,
   "metadata": {},
   "outputs": [],
   "source": [
    "x = torch.rand(1)"
   ]
  },
  {
   "cell_type": "code",
   "execution_count": 4,
   "metadata": {},
   "outputs": [
    {
     "data": {
      "text/plain": [
       "torch.Size([1])"
      ]
     },
     "execution_count": 4,
     "metadata": {},
     "output_type": "execute_result"
    }
   ],
   "source": [
    "x.size()"
   ]
  },
  {
   "cell_type": "code",
   "execution_count": 5,
   "metadata": {},
   "outputs": [],
   "source": [
    "t = torch.rand(10)"
   ]
  },
  {
   "cell_type": "code",
   "execution_count": 6,
   "metadata": {},
   "outputs": [
    {
     "data": {
      "text/plain": [
       "torch.Size([10])"
      ]
     },
     "execution_count": 6,
     "metadata": {},
     "output_type": "execute_result"
    }
   ],
   "source": [
    "t.size()"
   ]
  },
  {
   "cell_type": "code",
   "execution_count": 7,
   "metadata": {},
   "outputs": [
    {
     "data": {
      "text/plain": [
       "tensor([ 0.6161,  0.3998,  0.4109,  0.0569,  0.4600,  0.0237,  0.5524,\n",
       "         0.9686,  0.8338,  0.4673])"
      ]
     },
     "execution_count": 7,
     "metadata": {},
     "output_type": "execute_result"
    }
   ],
   "source": [
    "t"
   ]
  },
  {
   "cell_type": "code",
   "execution_count": 8,
   "metadata": {},
   "outputs": [],
   "source": [
    "x = torch.Tensor(2, 3)"
   ]
  },
  {
   "cell_type": "code",
   "execution_count": 12,
   "metadata": {},
   "outputs": [],
   "source": [
    "#print(x)"
   ]
  },
  {
   "cell_type": "code",
   "execution_count": 10,
   "metadata": {},
   "outputs": [],
   "source": [
    "x = torch.randn(2, 3)"
   ]
  },
  {
   "cell_type": "code",
   "execution_count": 11,
   "metadata": {},
   "outputs": [
    {
     "name": "stdout",
     "output_type": "stream",
     "text": [
      "tensor([[ 1.0704, -0.3266, -0.0529],\n",
      "        [ 2.4622,  0.5919,  2.1524]])\n"
     ]
    }
   ],
   "source": [
    "print(x)"
   ]
  },
  {
   "cell_type": "code",
   "execution_count": 13,
   "metadata": {},
   "outputs": [
    {
     "data": {
      "text/plain": [
       "tensor([[ 3.,  3.,  3.],\n",
       "        [ 3.,  3.,  3.]])"
      ]
     },
     "execution_count": 13,
     "metadata": {},
     "output_type": "execute_result"
    }
   ],
   "source": [
    "x = torch.ones(2, 3)\n",
    "y = torch.ones(2, 3) * 2\n",
    "x + y"
   ]
  },
  {
   "cell_type": "code",
   "execution_count": 14,
   "metadata": {},
   "outputs": [
    {
     "data": {
      "text/plain": [
       "tensor([ 2.,  2.])"
      ]
     },
     "execution_count": 14,
     "metadata": {},
     "output_type": "execute_result"
    }
   ],
   "source": [
    "y[:, 1]"
   ]
  },
  {
   "cell_type": "code",
   "execution_count": 15,
   "metadata": {},
   "outputs": [
    {
     "data": {
      "text/plain": [
       "tensor([[ 2.,  2.,  2.],\n",
       "        [ 2.,  2.,  2.]])"
      ]
     },
     "execution_count": 15,
     "metadata": {},
     "output_type": "execute_result"
    }
   ],
   "source": [
    "y"
   ]
  },
  {
   "cell_type": "code",
   "execution_count": 16,
   "metadata": {},
   "outputs": [],
   "source": [
    "y[1, 0] = 4"
   ]
  },
  {
   "cell_type": "code",
   "execution_count": 17,
   "metadata": {},
   "outputs": [
    {
     "data": {
      "text/plain": [
       "tensor([[ 2.,  2.,  2.],\n",
       "        [ 4.,  2.,  2.]])"
      ]
     },
     "execution_count": 17,
     "metadata": {},
     "output_type": "execute_result"
    }
   ],
   "source": [
    "y"
   ]
  },
  {
   "cell_type": "code",
   "execution_count": 18,
   "metadata": {},
   "outputs": [
    {
     "data": {
      "text/plain": [
       "tensor([ 2.,  2.])"
      ]
     },
     "execution_count": 18,
     "metadata": {},
     "output_type": "execute_result"
    }
   ],
   "source": [
    "y[:, 1]"
   ]
  },
  {
   "cell_type": "code",
   "execution_count": 19,
   "metadata": {},
   "outputs": [
    {
     "data": {
      "text/plain": [
       "tensor([ 4.,  2.,  2.])"
      ]
     },
     "execution_count": 19,
     "metadata": {},
     "output_type": "execute_result"
    }
   ],
   "source": [
    "y[1, :]"
   ]
  },
  {
   "cell_type": "code",
   "execution_count": 20,
   "metadata": {},
   "outputs": [],
   "source": [
    "y[0, 1] = 6"
   ]
  },
  {
   "cell_type": "code",
   "execution_count": 22,
   "metadata": {},
   "outputs": [
    {
     "data": {
      "text/plain": [
       "tensor([[ 2.,  6.,  2.],\n",
       "        [ 4.,  2.,  2.]])"
      ]
     },
     "execution_count": 22,
     "metadata": {},
     "output_type": "execute_result"
    }
   ],
   "source": [
    "y"
   ]
  },
  {
   "cell_type": "code",
   "execution_count": 21,
   "metadata": {},
   "outputs": [
    {
     "data": {
      "text/plain": [
       "tensor([ 6.,  2.])"
      ]
     },
     "execution_count": 21,
     "metadata": {},
     "output_type": "execute_result"
    }
   ],
   "source": [
    "y[:, 1]"
   ]
  },
  {
   "cell_type": "code",
   "execution_count": 23,
   "metadata": {},
   "outputs": [],
   "source": [
    "y[1, 1] = 0"
   ]
  },
  {
   "cell_type": "code",
   "execution_count": 24,
   "metadata": {},
   "outputs": [
    {
     "data": {
      "text/plain": [
       "tensor([ 6.,  0.])"
      ]
     },
     "execution_count": 24,
     "metadata": {},
     "output_type": "execute_result"
    }
   ],
   "source": [
    "y[:, 1]"
   ]
  },
  {
   "cell_type": "code",
   "execution_count": 25,
   "metadata": {},
   "outputs": [
    {
     "data": {
      "text/plain": [
       "tensor([[ 2.,  6.,  2.],\n",
       "        [ 4.,  0.,  2.]])"
      ]
     },
     "execution_count": 25,
     "metadata": {},
     "output_type": "execute_result"
    }
   ],
   "source": [
    "y"
   ]
  },
  {
   "cell_type": "code",
   "execution_count": 26,
   "metadata": {},
   "outputs": [],
   "source": [
    "z = torch.ones(2, 3) * 2"
   ]
  },
  {
   "cell_type": "code",
   "execution_count": 27,
   "metadata": {},
   "outputs": [
    {
     "data": {
      "text/plain": [
       "tensor([[ 2.,  2.,  2.],\n",
       "        [ 2.,  2.,  2.]])"
      ]
     },
     "execution_count": 27,
     "metadata": {},
     "output_type": "execute_result"
    }
   ],
   "source": [
    "z"
   ]
  },
  {
   "cell_type": "code",
   "execution_count": 28,
   "metadata": {},
   "outputs": [],
   "source": [
    "z[:, 1] = z[:, 1] + 1"
   ]
  },
  {
   "cell_type": "code",
   "execution_count": 29,
   "metadata": {},
   "outputs": [
    {
     "data": {
      "text/plain": [
       "tensor([[ 2.,  3.,  2.],\n",
       "        [ 2.,  3.,  2.]])"
      ]
     },
     "execution_count": 29,
     "metadata": {},
     "output_type": "execute_result"
    }
   ],
   "source": [
    "z"
   ]
  },
  {
   "cell_type": "code",
   "execution_count": 30,
   "metadata": {},
   "outputs": [
    {
     "name": "stdout",
     "output_type": "stream",
     "text": [
      "tensor([[ 2.,  3.,  2.],\n",
      "        [ 2.,  3.,  2.]])\n"
     ]
    }
   ],
   "source": [
    "print(z)"
   ]
  },
  {
   "cell_type": "code",
   "execution_count": 31,
   "metadata": {},
   "outputs": [],
   "source": [
    "v = Variable(torch.ones(2, 2) * 2, requires_grad=True)"
   ]
  },
  {
   "cell_type": "code",
   "execution_count": 32,
   "metadata": {},
   "outputs": [
    {
     "name": "stdout",
     "output_type": "stream",
     "text": [
      "tensor([[ 2.,  2.],\n",
      "        [ 2.,  2.]])\n"
     ]
    }
   ],
   "source": [
    "print(v)"
   ]
  },
  {
   "cell_type": "code",
   "execution_count": 33,
   "metadata": {},
   "outputs": [],
   "source": [
    "t = 2 * (z * z) + 5 * z"
   ]
  },
  {
   "cell_type": "code",
   "execution_count": 34,
   "metadata": {},
   "outputs": [
    {
     "name": "stdout",
     "output_type": "stream",
     "text": [
      "tensor([[ 18.,  33.,  18.],\n",
      "        [ 18.,  33.,  18.]])\n"
     ]
    }
   ],
   "source": [
    "print(t)"
   ]
  },
  {
   "cell_type": "code",
   "execution_count": 36,
   "metadata": {},
   "outputs": [],
   "source": [
    "#t.backward(torch.ones(2, 2))"
   ]
  },
  {
   "cell_type": "code",
   "execution_count": 37,
   "metadata": {},
   "outputs": [
    {
     "name": "stdout",
     "output_type": "stream",
     "text": [
      "None\n"
     ]
    }
   ],
   "source": [
    "print(t.grad)"
   ]
  },
  {
   "cell_type": "code",
   "execution_count": 38,
   "metadata": {},
   "outputs": [
    {
     "name": "stdout",
     "output_type": "stream",
     "text": [
      "None\n"
     ]
    }
   ],
   "source": [
    "print(z.grad)"
   ]
  },
  {
   "cell_type": "code",
   "execution_count": 39,
   "metadata": {},
   "outputs": [],
   "source": [
    "class Net(nn.Module):\n",
    "    \n",
    "    def __init__(self):\n",
    "        # fc - fully connected layer\n",
    "        super(Net, self).__init__()\n",
    "        self.fc1 = nn.Linear(28 * 28, 200)\n",
    "        self.fc2 = nn.Linear(200, 200)\n",
    "        self.fc3 = nn.Linear(200, 10)\n",
    "    \n",
    "    def forward(self, x):\n",
    "        x = F.relu(self.fc1(x))\n",
    "        x = F.relu(self.fc2(x))\n",
    "        x = self.fc3(x)\n",
    "        return F.log_softmax(x)"
   ]
  },
  {
   "cell_type": "code",
   "execution_count": 40,
   "metadata": {},
   "outputs": [
    {
     "name": "stdout",
     "output_type": "stream",
     "text": [
      "Net(\n",
      "  (fc1): Linear(in_features=784, out_features=200, bias=True)\n",
      "  (fc2): Linear(in_features=200, out_features=200, bias=True)\n",
      "  (fc3): Linear(in_features=200, out_features=10, bias=True)\n",
      ")\n"
     ]
    }
   ],
   "source": [
    "net = Net()\n",
    "print(net)"
   ]
  },
  {
   "cell_type": "code",
   "execution_count": 41,
   "metadata": {},
   "outputs": [],
   "source": [
    "device = torch.device(\"cuda:0\" if torch.cuda.is_available() else \"cpu\")"
   ]
  },
  {
   "cell_type": "code",
   "execution_count": 42,
   "metadata": {},
   "outputs": [
    {
     "name": "stdout",
     "output_type": "stream",
     "text": [
      "cuda:0\n"
     ]
    }
   ],
   "source": [
    "print(device)"
   ]
  },
  {
   "cell_type": "code",
   "execution_count": 43,
   "metadata": {},
   "outputs": [
    {
     "data": {
      "text/plain": [
       "Net(\n",
       "  (fc1): Linear(in_features=784, out_features=200, bias=True)\n",
       "  (fc2): Linear(in_features=200, out_features=200, bias=True)\n",
       "  (fc3): Linear(in_features=200, out_features=10, bias=True)\n",
       ")"
      ]
     },
     "execution_count": 43,
     "metadata": {},
     "output_type": "execute_result"
    }
   ],
   "source": [
    "net.to(device)"
   ]
  },
  {
   "cell_type": "code",
   "execution_count": 44,
   "metadata": {},
   "outputs": [
    {
     "name": "stdout",
     "output_type": "stream",
     "text": [
      "Net(\n",
      "  (fc1): Linear(in_features=784, out_features=200, bias=True)\n",
      "  (fc2): Linear(in_features=200, out_features=200, bias=True)\n",
      "  (fc3): Linear(in_features=200, out_features=10, bias=True)\n",
      ")\n"
     ]
    }
   ],
   "source": [
    "print(net)"
   ]
  },
  {
   "cell_type": "code",
   "execution_count": 45,
   "metadata": {},
   "outputs": [],
   "source": [
    "learning_rate = 0.01\n",
    "batch_size = 200\n",
    "epochs = 10\n",
    "log_interval = 10"
   ]
  },
  {
   "cell_type": "code",
   "execution_count": 46,
   "metadata": {},
   "outputs": [],
   "source": [
    "optimizer = optim.SGD(net.parameters(), lr=learning_rate, momentum=0.9)\n",
    "criterion = nn.NLLLoss()"
   ]
  },
  {
   "cell_type": "code",
   "execution_count": 47,
   "metadata": {},
   "outputs": [
    {
     "name": "stdout",
     "output_type": "stream",
     "text": [
      "Downloading http://yann.lecun.com/exdb/mnist/train-images-idx3-ubyte.gz\n",
      "Downloading http://yann.lecun.com/exdb/mnist/train-labels-idx1-ubyte.gz\n",
      "Downloading http://yann.lecun.com/exdb/mnist/t10k-images-idx3-ubyte.gz\n",
      "Downloading http://yann.lecun.com/exdb/mnist/t10k-labels-idx1-ubyte.gz\n",
      "Processing...\n",
      "Done!\n"
     ]
    }
   ],
   "source": [
    "train_loader = torch.utils.data.DataLoader(\n",
    "    datasets.MNIST('../data', train=True, download=True,\n",
    "                   transform=transforms.Compose([\n",
    "                       transforms.ToTensor(),\n",
    "                       transforms.Normalize((0.1307,), (0.3081,))\n",
    "                   ])),\n",
    "    batch_size=batch_size,\n",
    "    shuffle=True\n",
    ")"
   ]
  },
  {
   "cell_type": "code",
   "execution_count": 48,
   "metadata": {},
   "outputs": [],
   "source": [
    "test_loader = torch.utils.data.DataLoader(\n",
    "    datasets.MNIST('../data', train=False,\n",
    "                   transform=transforms.Compose([\n",
    "                       transforms.ToTensor(),\n",
    "                       transforms.Normalize((0.1307,), (0.3081,))\n",
    "                   ])),\n",
    "    batch_size=batch_size,\n",
    "    shuffle=True\n",
    ")\n"
   ]
  },
  {
   "cell_type": "code",
   "execution_count": 49,
   "metadata": {},
   "outputs": [
    {
     "name": "stdout",
     "output_type": "stream",
     "text": [
      "Train Epoch: 0 [0/60000 (0%)]\tLoss: 2.302897\n",
      "Train Epoch: 0 [2000/60000 (3%)]\tLoss: 2.170460\n",
      "Train Epoch: 0 [4000/60000 (7%)]\tLoss: 1.780523\n",
      "Train Epoch: 0 [6000/60000 (10%)]\tLoss: 1.170326\n",
      "Train Epoch: 0 [8000/60000 (13%)]\tLoss: 0.773083\n",
      "Train Epoch: 0 [10000/60000 (17%)]\tLoss: 0.518502\n",
      "Train Epoch: 0 [12000/60000 (20%)]\tLoss: 0.495792\n",
      "Train Epoch: 0 [14000/60000 (23%)]\tLoss: 0.464882\n",
      "Train Epoch: 0 [16000/60000 (27%)]\tLoss: 0.242585\n",
      "Train Epoch: 0 [18000/60000 (30%)]\tLoss: 0.439409\n",
      "Train Epoch: 0 [20000/60000 (33%)]\tLoss: 0.296521\n",
      "Train Epoch: 0 [22000/60000 (37%)]\tLoss: 0.264694\n",
      "Train Epoch: 0 [24000/60000 (40%)]\tLoss: 0.279281\n",
      "Train Epoch: 0 [26000/60000 (43%)]\tLoss: 0.340680\n",
      "Train Epoch: 0 [28000/60000 (47%)]\tLoss: 0.291895\n",
      "Train Epoch: 0 [30000/60000 (50%)]\tLoss: 0.310439\n",
      "Train Epoch: 0 [32000/60000 (53%)]\tLoss: 0.449987\n",
      "Train Epoch: 0 [34000/60000 (57%)]\tLoss: 0.336213\n",
      "Train Epoch: 0 [36000/60000 (60%)]\tLoss: 0.293228\n",
      "Train Epoch: 0 [38000/60000 (63%)]\tLoss: 0.284978\n",
      "Train Epoch: 0 [40000/60000 (67%)]\tLoss: 0.238615\n",
      "Train Epoch: 0 [42000/60000 (70%)]\tLoss: 0.263004\n",
      "Train Epoch: 0 [44000/60000 (73%)]\tLoss: 0.310442\n",
      "Train Epoch: 0 [46000/60000 (77%)]\tLoss: 0.344433\n",
      "Train Epoch: 0 [48000/60000 (80%)]\tLoss: 0.151480\n",
      "Train Epoch: 0 [50000/60000 (83%)]\tLoss: 0.217492\n",
      "Train Epoch: 0 [52000/60000 (87%)]\tLoss: 0.169046\n",
      "Train Epoch: 0 [54000/60000 (90%)]\tLoss: 0.308471\n",
      "Train Epoch: 0 [56000/60000 (93%)]\tLoss: 0.253086\n",
      "Train Epoch: 0 [58000/60000 (97%)]\tLoss: 0.135298\n",
      "Train Epoch: 1 [0/60000 (0%)]\tLoss: 0.202092\n",
      "Train Epoch: 1 [2000/60000 (3%)]\tLoss: 0.190285\n",
      "Train Epoch: 1 [4000/60000 (7%)]\tLoss: 0.201000\n",
      "Train Epoch: 1 [6000/60000 (10%)]\tLoss: 0.266612\n",
      "Train Epoch: 1 [8000/60000 (13%)]\tLoss: 0.227910\n",
      "Train Epoch: 1 [10000/60000 (17%)]\tLoss: 0.174925\n",
      "Train Epoch: 1 [12000/60000 (20%)]\tLoss: 0.119014\n",
      "Train Epoch: 1 [14000/60000 (23%)]\tLoss: 0.248959\n",
      "Train Epoch: 1 [16000/60000 (27%)]\tLoss: 0.246678\n",
      "Train Epoch: 1 [18000/60000 (30%)]\tLoss: 0.228150\n",
      "Train Epoch: 1 [20000/60000 (33%)]\tLoss: 0.276911\n",
      "Train Epoch: 1 [22000/60000 (37%)]\tLoss: 0.205427\n",
      "Train Epoch: 1 [24000/60000 (40%)]\tLoss: 0.155073\n",
      "Train Epoch: 1 [26000/60000 (43%)]\tLoss: 0.140448\n",
      "Train Epoch: 1 [28000/60000 (47%)]\tLoss: 0.151595\n",
      "Train Epoch: 1 [30000/60000 (50%)]\tLoss: 0.140829\n",
      "Train Epoch: 1 [32000/60000 (53%)]\tLoss: 0.197872\n",
      "Train Epoch: 1 [34000/60000 (57%)]\tLoss: 0.193924\n",
      "Train Epoch: 1 [36000/60000 (60%)]\tLoss: 0.145971\n",
      "Train Epoch: 1 [38000/60000 (63%)]\tLoss: 0.113555\n",
      "Train Epoch: 1 [40000/60000 (67%)]\tLoss: 0.144482\n",
      "Train Epoch: 1 [42000/60000 (70%)]\tLoss: 0.188132\n",
      "Train Epoch: 1 [44000/60000 (73%)]\tLoss: 0.133325\n",
      "Train Epoch: 1 [46000/60000 (77%)]\tLoss: 0.138075\n",
      "Train Epoch: 1 [48000/60000 (80%)]\tLoss: 0.112373\n",
      "Train Epoch: 1 [50000/60000 (83%)]\tLoss: 0.154835\n",
      "Train Epoch: 1 [52000/60000 (87%)]\tLoss: 0.176528\n",
      "Train Epoch: 1 [54000/60000 (90%)]\tLoss: 0.188609\n",
      "Train Epoch: 1 [56000/60000 (93%)]\tLoss: 0.168931\n",
      "Train Epoch: 1 [58000/60000 (97%)]\tLoss: 0.163213\n",
      "Train Epoch: 2 [0/60000 (0%)]\tLoss: 0.143428\n",
      "Train Epoch: 2 [2000/60000 (3%)]\tLoss: 0.114283\n",
      "Train Epoch: 2 [4000/60000 (7%)]\tLoss: 0.122456\n",
      "Train Epoch: 2 [6000/60000 (10%)]\tLoss: 0.167022\n",
      "Train Epoch: 2 [8000/60000 (13%)]\tLoss: 0.194808\n",
      "Train Epoch: 2 [10000/60000 (17%)]\tLoss: 0.146812\n",
      "Train Epoch: 2 [12000/60000 (20%)]\tLoss: 0.173433\n",
      "Train Epoch: 2 [14000/60000 (23%)]\tLoss: 0.172406\n",
      "Train Epoch: 2 [16000/60000 (27%)]\tLoss: 0.123728\n",
      "Train Epoch: 2 [18000/60000 (30%)]\tLoss: 0.187747\n",
      "Train Epoch: 2 [20000/60000 (33%)]\tLoss: 0.155932\n",
      "Train Epoch: 2 [22000/60000 (37%)]\tLoss: 0.132134\n",
      "Train Epoch: 2 [24000/60000 (40%)]\tLoss: 0.128483\n",
      "Train Epoch: 2 [26000/60000 (43%)]\tLoss: 0.186817\n",
      "Train Epoch: 2 [28000/60000 (47%)]\tLoss: 0.138707\n",
      "Train Epoch: 2 [30000/60000 (50%)]\tLoss: 0.108384\n",
      "Train Epoch: 2 [32000/60000 (53%)]\tLoss: 0.139729\n",
      "Train Epoch: 2 [34000/60000 (57%)]\tLoss: 0.118181\n",
      "Train Epoch: 2 [36000/60000 (60%)]\tLoss: 0.175083\n",
      "Train Epoch: 2 [38000/60000 (63%)]\tLoss: 0.132005\n",
      "Train Epoch: 2 [40000/60000 (67%)]\tLoss: 0.193760\n",
      "Train Epoch: 2 [42000/60000 (70%)]\tLoss: 0.092678\n",
      "Train Epoch: 2 [44000/60000 (73%)]\tLoss: 0.159763\n",
      "Train Epoch: 2 [46000/60000 (77%)]\tLoss: 0.114280\n",
      "Train Epoch: 2 [48000/60000 (80%)]\tLoss: 0.112388\n",
      "Train Epoch: 2 [50000/60000 (83%)]\tLoss: 0.177550\n",
      "Train Epoch: 2 [52000/60000 (87%)]\tLoss: 0.148036\n",
      "Train Epoch: 2 [54000/60000 (90%)]\tLoss: 0.101789\n",
      "Train Epoch: 2 [56000/60000 (93%)]\tLoss: 0.109511\n",
      "Train Epoch: 2 [58000/60000 (97%)]\tLoss: 0.105922\n",
      "Train Epoch: 3 [0/60000 (0%)]\tLoss: 0.096381\n",
      "Train Epoch: 3 [2000/60000 (3%)]\tLoss: 0.069829\n",
      "Train Epoch: 3 [4000/60000 (7%)]\tLoss: 0.156411\n",
      "Train Epoch: 3 [6000/60000 (10%)]\tLoss: 0.117083\n",
      "Train Epoch: 3 [8000/60000 (13%)]\tLoss: 0.166720\n",
      "Train Epoch: 3 [10000/60000 (17%)]\tLoss: 0.162080\n",
      "Train Epoch: 3 [12000/60000 (20%)]\tLoss: 0.100494\n",
      "Train Epoch: 3 [14000/60000 (23%)]\tLoss: 0.183180\n",
      "Train Epoch: 3 [16000/60000 (27%)]\tLoss: 0.165124\n",
      "Train Epoch: 3 [18000/60000 (30%)]\tLoss: 0.089083\n",
      "Train Epoch: 3 [20000/60000 (33%)]\tLoss: 0.043163\n",
      "Train Epoch: 3 [22000/60000 (37%)]\tLoss: 0.165172\n",
      "Train Epoch: 3 [24000/60000 (40%)]\tLoss: 0.060806\n",
      "Train Epoch: 3 [26000/60000 (43%)]\tLoss: 0.132066\n",
      "Train Epoch: 3 [28000/60000 (47%)]\tLoss: 0.092536\n",
      "Train Epoch: 3 [30000/60000 (50%)]\tLoss: 0.096526\n",
      "Train Epoch: 3 [32000/60000 (53%)]\tLoss: 0.104374\n",
      "Train Epoch: 3 [34000/60000 (57%)]\tLoss: 0.092079\n",
      "Train Epoch: 3 [36000/60000 (60%)]\tLoss: 0.151574\n",
      "Train Epoch: 3 [38000/60000 (63%)]\tLoss: 0.047924\n",
      "Train Epoch: 3 [40000/60000 (67%)]\tLoss: 0.126441\n",
      "Train Epoch: 3 [42000/60000 (70%)]\tLoss: 0.103139\n",
      "Train Epoch: 3 [44000/60000 (73%)]\tLoss: 0.269897\n",
      "Train Epoch: 3 [46000/60000 (77%)]\tLoss: 0.093153\n",
      "Train Epoch: 3 [48000/60000 (80%)]\tLoss: 0.065794\n",
      "Train Epoch: 3 [50000/60000 (83%)]\tLoss: 0.094242\n",
      "Train Epoch: 3 [52000/60000 (87%)]\tLoss: 0.084044\n",
      "Train Epoch: 3 [54000/60000 (90%)]\tLoss: 0.124770\n",
      "Train Epoch: 3 [56000/60000 (93%)]\tLoss: 0.096954\n",
      "Train Epoch: 3 [58000/60000 (97%)]\tLoss: 0.045340\n",
      "Train Epoch: 4 [0/60000 (0%)]\tLoss: 0.099151\n",
      "Train Epoch: 4 [2000/60000 (3%)]\tLoss: 0.048678\n",
      "Train Epoch: 4 [4000/60000 (7%)]\tLoss: 0.045729\n",
      "Train Epoch: 4 [6000/60000 (10%)]\tLoss: 0.098777\n",
      "Train Epoch: 4 [8000/60000 (13%)]\tLoss: 0.038222\n",
      "Train Epoch: 4 [10000/60000 (17%)]\tLoss: 0.125377\n",
      "Train Epoch: 4 [12000/60000 (20%)]\tLoss: 0.109928\n",
      "Train Epoch: 4 [14000/60000 (23%)]\tLoss: 0.074933\n",
      "Train Epoch: 4 [16000/60000 (27%)]\tLoss: 0.032681\n",
      "Train Epoch: 4 [18000/60000 (30%)]\tLoss: 0.045363\n",
      "Train Epoch: 4 [20000/60000 (33%)]\tLoss: 0.085102\n",
      "Train Epoch: 4 [22000/60000 (37%)]\tLoss: 0.077392\n",
      "Train Epoch: 4 [24000/60000 (40%)]\tLoss: 0.033932\n",
      "Train Epoch: 4 [26000/60000 (43%)]\tLoss: 0.109800\n",
      "Train Epoch: 4 [28000/60000 (47%)]\tLoss: 0.089320\n",
      "Train Epoch: 4 [30000/60000 (50%)]\tLoss: 0.038270\n",
      "Train Epoch: 4 [32000/60000 (53%)]\tLoss: 0.080602\n",
      "Train Epoch: 4 [34000/60000 (57%)]\tLoss: 0.131890\n",
      "Train Epoch: 4 [36000/60000 (60%)]\tLoss: 0.062635\n",
      "Train Epoch: 4 [38000/60000 (63%)]\tLoss: 0.100649\n",
      "Train Epoch: 4 [40000/60000 (67%)]\tLoss: 0.107900\n",
      "Train Epoch: 4 [42000/60000 (70%)]\tLoss: 0.063882\n",
      "Train Epoch: 4 [44000/60000 (73%)]\tLoss: 0.086288\n",
      "Train Epoch: 4 [46000/60000 (77%)]\tLoss: 0.061588\n",
      "Train Epoch: 4 [48000/60000 (80%)]\tLoss: 0.074521\n",
      "Train Epoch: 4 [50000/60000 (83%)]\tLoss: 0.103022\n",
      "Train Epoch: 4 [52000/60000 (87%)]\tLoss: 0.070267\n",
      "Train Epoch: 4 [54000/60000 (90%)]\tLoss: 0.084589\n",
      "Train Epoch: 4 [56000/60000 (93%)]\tLoss: 0.062372\n",
      "Train Epoch: 4 [58000/60000 (97%)]\tLoss: 0.081156\n",
      "Train Epoch: 5 [0/60000 (0%)]\tLoss: 0.086179\n",
      "Train Epoch: 5 [2000/60000 (3%)]\tLoss: 0.042902\n",
      "Train Epoch: 5 [4000/60000 (7%)]\tLoss: 0.118917\n",
      "Train Epoch: 5 [6000/60000 (10%)]\tLoss: 0.073185\n",
      "Train Epoch: 5 [8000/60000 (13%)]\tLoss: 0.104705\n",
      "Train Epoch: 5 [10000/60000 (17%)]\tLoss: 0.067690\n",
      "Train Epoch: 5 [12000/60000 (20%)]\tLoss: 0.111607\n",
      "Train Epoch: 5 [14000/60000 (23%)]\tLoss: 0.078217\n",
      "Train Epoch: 5 [16000/60000 (27%)]\tLoss: 0.068773\n",
      "Train Epoch: 5 [18000/60000 (30%)]\tLoss: 0.080267\n",
      "Train Epoch: 5 [20000/60000 (33%)]\tLoss: 0.045371\n",
      "Train Epoch: 5 [22000/60000 (37%)]\tLoss: 0.078261\n",
      "Train Epoch: 5 [24000/60000 (40%)]\tLoss: 0.035952\n",
      "Train Epoch: 5 [26000/60000 (43%)]\tLoss: 0.101194\n",
      "Train Epoch: 5 [28000/60000 (47%)]\tLoss: 0.066867\n",
      "Train Epoch: 5 [30000/60000 (50%)]\tLoss: 0.075270\n"
     ]
    },
    {
     "name": "stdout",
     "output_type": "stream",
     "text": [
      "Train Epoch: 5 [32000/60000 (53%)]\tLoss: 0.047625\n",
      "Train Epoch: 5 [34000/60000 (57%)]\tLoss: 0.085780\n",
      "Train Epoch: 5 [36000/60000 (60%)]\tLoss: 0.060010\n",
      "Train Epoch: 5 [38000/60000 (63%)]\tLoss: 0.047949\n",
      "Train Epoch: 5 [40000/60000 (67%)]\tLoss: 0.074389\n",
      "Train Epoch: 5 [42000/60000 (70%)]\tLoss: 0.099181\n",
      "Train Epoch: 5 [44000/60000 (73%)]\tLoss: 0.091449\n",
      "Train Epoch: 5 [46000/60000 (77%)]\tLoss: 0.105185\n",
      "Train Epoch: 5 [48000/60000 (80%)]\tLoss: 0.129122\n",
      "Train Epoch: 5 [50000/60000 (83%)]\tLoss: 0.066544\n",
      "Train Epoch: 5 [52000/60000 (87%)]\tLoss: 0.053156\n",
      "Train Epoch: 5 [54000/60000 (90%)]\tLoss: 0.110336\n",
      "Train Epoch: 5 [56000/60000 (93%)]\tLoss: 0.100817\n",
      "Train Epoch: 5 [58000/60000 (97%)]\tLoss: 0.050327\n",
      "Train Epoch: 6 [0/60000 (0%)]\tLoss: 0.052438\n",
      "Train Epoch: 6 [2000/60000 (3%)]\tLoss: 0.033748\n",
      "Train Epoch: 6 [4000/60000 (7%)]\tLoss: 0.037035\n",
      "Train Epoch: 6 [6000/60000 (10%)]\tLoss: 0.072417\n",
      "Train Epoch: 6 [8000/60000 (13%)]\tLoss: 0.074731\n",
      "Train Epoch: 6 [10000/60000 (17%)]\tLoss: 0.085176\n",
      "Train Epoch: 6 [12000/60000 (20%)]\tLoss: 0.056386\n",
      "Train Epoch: 6 [14000/60000 (23%)]\tLoss: 0.045996\n",
      "Train Epoch: 6 [16000/60000 (27%)]\tLoss: 0.079781\n",
      "Train Epoch: 6 [18000/60000 (30%)]\tLoss: 0.061222\n",
      "Train Epoch: 6 [20000/60000 (33%)]\tLoss: 0.066280\n",
      "Train Epoch: 6 [22000/60000 (37%)]\tLoss: 0.045361\n",
      "Train Epoch: 6 [24000/60000 (40%)]\tLoss: 0.052936\n",
      "Train Epoch: 6 [26000/60000 (43%)]\tLoss: 0.072774\n",
      "Train Epoch: 6 [28000/60000 (47%)]\tLoss: 0.070803\n",
      "Train Epoch: 6 [30000/60000 (50%)]\tLoss: 0.083260\n",
      "Train Epoch: 6 [32000/60000 (53%)]\tLoss: 0.045144\n",
      "Train Epoch: 6 [34000/60000 (57%)]\tLoss: 0.040922\n",
      "Train Epoch: 6 [36000/60000 (60%)]\tLoss: 0.036338\n",
      "Train Epoch: 6 [38000/60000 (63%)]\tLoss: 0.065328\n",
      "Train Epoch: 6 [40000/60000 (67%)]\tLoss: 0.054105\n",
      "Train Epoch: 6 [42000/60000 (70%)]\tLoss: 0.019922\n",
      "Train Epoch: 6 [44000/60000 (73%)]\tLoss: 0.046329\n",
      "Train Epoch: 6 [46000/60000 (77%)]\tLoss: 0.034333\n",
      "Train Epoch: 6 [48000/60000 (80%)]\tLoss: 0.025334\n",
      "Train Epoch: 6 [50000/60000 (83%)]\tLoss: 0.045240\n",
      "Train Epoch: 6 [52000/60000 (87%)]\tLoss: 0.076896\n",
      "Train Epoch: 6 [54000/60000 (90%)]\tLoss: 0.096523\n",
      "Train Epoch: 6 [56000/60000 (93%)]\tLoss: 0.101203\n",
      "Train Epoch: 6 [58000/60000 (97%)]\tLoss: 0.056437\n",
      "Train Epoch: 7 [0/60000 (0%)]\tLoss: 0.088900\n",
      "Train Epoch: 7 [2000/60000 (3%)]\tLoss: 0.038787\n",
      "Train Epoch: 7 [4000/60000 (7%)]\tLoss: 0.041221\n",
      "Train Epoch: 7 [6000/60000 (10%)]\tLoss: 0.029047\n",
      "Train Epoch: 7 [8000/60000 (13%)]\tLoss: 0.052288\n",
      "Train Epoch: 7 [10000/60000 (17%)]\tLoss: 0.035512\n",
      "Train Epoch: 7 [12000/60000 (20%)]\tLoss: 0.056887\n",
      "Train Epoch: 7 [14000/60000 (23%)]\tLoss: 0.074946\n",
      "Train Epoch: 7 [16000/60000 (27%)]\tLoss: 0.028178\n",
      "Train Epoch: 7 [18000/60000 (30%)]\tLoss: 0.062050\n",
      "Train Epoch: 7 [20000/60000 (33%)]\tLoss: 0.047685\n",
      "Train Epoch: 7 [22000/60000 (37%)]\tLoss: 0.031513\n",
      "Train Epoch: 7 [24000/60000 (40%)]\tLoss: 0.024724\n",
      "Train Epoch: 7 [26000/60000 (43%)]\tLoss: 0.048704\n",
      "Train Epoch: 7 [28000/60000 (47%)]\tLoss: 0.068531\n",
      "Train Epoch: 7 [30000/60000 (50%)]\tLoss: 0.033875\n",
      "Train Epoch: 7 [32000/60000 (53%)]\tLoss: 0.062207\n",
      "Train Epoch: 7 [34000/60000 (57%)]\tLoss: 0.060125\n",
      "Train Epoch: 7 [36000/60000 (60%)]\tLoss: 0.044574\n",
      "Train Epoch: 7 [38000/60000 (63%)]\tLoss: 0.096604\n",
      "Train Epoch: 7 [40000/60000 (67%)]\tLoss: 0.035292\n",
      "Train Epoch: 7 [42000/60000 (70%)]\tLoss: 0.034770\n",
      "Train Epoch: 7 [44000/60000 (73%)]\tLoss: 0.059956\n",
      "Train Epoch: 7 [46000/60000 (77%)]\tLoss: 0.095494\n",
      "Train Epoch: 7 [48000/60000 (80%)]\tLoss: 0.028806\n",
      "Train Epoch: 7 [50000/60000 (83%)]\tLoss: 0.084579\n",
      "Train Epoch: 7 [52000/60000 (87%)]\tLoss: 0.098979\n",
      "Train Epoch: 7 [54000/60000 (90%)]\tLoss: 0.034971\n",
      "Train Epoch: 7 [56000/60000 (93%)]\tLoss: 0.051025\n",
      "Train Epoch: 7 [58000/60000 (97%)]\tLoss: 0.018251\n",
      "Train Epoch: 8 [0/60000 (0%)]\tLoss: 0.037662\n",
      "Train Epoch: 8 [2000/60000 (3%)]\tLoss: 0.022563\n",
      "Train Epoch: 8 [4000/60000 (7%)]\tLoss: 0.041510\n",
      "Train Epoch: 8 [6000/60000 (10%)]\tLoss: 0.021534\n",
      "Train Epoch: 8 [8000/60000 (13%)]\tLoss: 0.047496\n",
      "Train Epoch: 8 [10000/60000 (17%)]\tLoss: 0.038777\n",
      "Train Epoch: 8 [12000/60000 (20%)]\tLoss: 0.029179\n",
      "Train Epoch: 8 [14000/60000 (23%)]\tLoss: 0.039850\n",
      "Train Epoch: 8 [16000/60000 (27%)]\tLoss: 0.043536\n",
      "Train Epoch: 8 [18000/60000 (30%)]\tLoss: 0.037636\n",
      "Train Epoch: 8 [20000/60000 (33%)]\tLoss: 0.041294\n",
      "Train Epoch: 8 [22000/60000 (37%)]\tLoss: 0.033071\n",
      "Train Epoch: 8 [24000/60000 (40%)]\tLoss: 0.052724\n",
      "Train Epoch: 8 [26000/60000 (43%)]\tLoss: 0.048468\n",
      "Train Epoch: 8 [28000/60000 (47%)]\tLoss: 0.037356\n",
      "Train Epoch: 8 [30000/60000 (50%)]\tLoss: 0.046879\n",
      "Train Epoch: 8 [32000/60000 (53%)]\tLoss: 0.029794\n",
      "Train Epoch: 8 [34000/60000 (57%)]\tLoss: 0.019982\n",
      "Train Epoch: 8 [36000/60000 (60%)]\tLoss: 0.062656\n",
      "Train Epoch: 8 [38000/60000 (63%)]\tLoss: 0.038641\n",
      "Train Epoch: 8 [40000/60000 (67%)]\tLoss: 0.019681\n",
      "Train Epoch: 8 [42000/60000 (70%)]\tLoss: 0.036544\n",
      "Train Epoch: 8 [44000/60000 (73%)]\tLoss: 0.030105\n",
      "Train Epoch: 8 [46000/60000 (77%)]\tLoss: 0.076867\n",
      "Train Epoch: 8 [48000/60000 (80%)]\tLoss: 0.025776\n",
      "Train Epoch: 8 [50000/60000 (83%)]\tLoss: 0.019899\n",
      "Train Epoch: 8 [52000/60000 (87%)]\tLoss: 0.018702\n",
      "Train Epoch: 8 [54000/60000 (90%)]\tLoss: 0.014136\n",
      "Train Epoch: 8 [56000/60000 (93%)]\tLoss: 0.059235\n",
      "Train Epoch: 8 [58000/60000 (97%)]\tLoss: 0.036428\n",
      "Train Epoch: 9 [0/60000 (0%)]\tLoss: 0.023088\n",
      "Train Epoch: 9 [2000/60000 (3%)]\tLoss: 0.019406\n",
      "Train Epoch: 9 [4000/60000 (7%)]\tLoss: 0.023869\n",
      "Train Epoch: 9 [6000/60000 (10%)]\tLoss: 0.056973\n",
      "Train Epoch: 9 [8000/60000 (13%)]\tLoss: 0.029240\n",
      "Train Epoch: 9 [10000/60000 (17%)]\tLoss: 0.050989\n",
      "Train Epoch: 9 [12000/60000 (20%)]\tLoss: 0.022608\n",
      "Train Epoch: 9 [14000/60000 (23%)]\tLoss: 0.020729\n",
      "Train Epoch: 9 [16000/60000 (27%)]\tLoss: 0.023065\n",
      "Train Epoch: 9 [18000/60000 (30%)]\tLoss: 0.049222\n",
      "Train Epoch: 9 [20000/60000 (33%)]\tLoss: 0.012769\n",
      "Train Epoch: 9 [22000/60000 (37%)]\tLoss: 0.024194\n",
      "Train Epoch: 9 [24000/60000 (40%)]\tLoss: 0.010106\n",
      "Train Epoch: 9 [26000/60000 (43%)]\tLoss: 0.020707\n",
      "Train Epoch: 9 [28000/60000 (47%)]\tLoss: 0.040713\n",
      "Train Epoch: 9 [30000/60000 (50%)]\tLoss: 0.017824\n",
      "Train Epoch: 9 [32000/60000 (53%)]\tLoss: 0.042379\n",
      "Train Epoch: 9 [34000/60000 (57%)]\tLoss: 0.016154\n",
      "Train Epoch: 9 [36000/60000 (60%)]\tLoss: 0.058559\n",
      "Train Epoch: 9 [38000/60000 (63%)]\tLoss: 0.051315\n",
      "Train Epoch: 9 [40000/60000 (67%)]\tLoss: 0.033782\n",
      "Train Epoch: 9 [42000/60000 (70%)]\tLoss: 0.020339\n",
      "Train Epoch: 9 [44000/60000 (73%)]\tLoss: 0.024050\n",
      "Train Epoch: 9 [46000/60000 (77%)]\tLoss: 0.012469\n",
      "Train Epoch: 9 [48000/60000 (80%)]\tLoss: 0.029855\n",
      "Train Epoch: 9 [50000/60000 (83%)]\tLoss: 0.009788\n",
      "Train Epoch: 9 [52000/60000 (87%)]\tLoss: 0.037455\n",
      "Train Epoch: 9 [54000/60000 (90%)]\tLoss: 0.024524\n",
      "Train Epoch: 9 [56000/60000 (93%)]\tLoss: 0.046723\n",
      "Train Epoch: 9 [58000/60000 (97%)]\tLoss: 0.067512\n",
      "\n",
      "Test set: Average loss: 0.0000, Accuracy: 192/10000 (1%)\n",
      "\n",
      "\n",
      "Test set: Average loss: 0.0000, Accuracy: 389/10000 (3%)\n",
      "\n",
      "\n",
      "Test set: Average loss: 0.0000, Accuracy: 588/10000 (5%)\n",
      "\n",
      "\n",
      "Test set: Average loss: 0.0000, Accuracy: 778/10000 (7%)\n",
      "\n",
      "\n",
      "Test set: Average loss: 0.0000, Accuracy: 972/10000 (9%)\n",
      "\n",
      "\n",
      "Test set: Average loss: 0.0000, Accuracy: 1169/10000 (11%)\n",
      "\n",
      "\n",
      "Test set: Average loss: 0.0000, Accuracy: 1364/10000 (13%)\n",
      "\n",
      "\n",
      "Test set: Average loss: 0.0000, Accuracy: 1557/10000 (15%)\n",
      "\n",
      "\n",
      "Test set: Average loss: 0.0000, Accuracy: 1751/10000 (17%)\n",
      "\n",
      "\n",
      "Test set: Average loss: 0.0000, Accuracy: 1947/10000 (19%)\n",
      "\n",
      "\n",
      "Test set: Average loss: 0.0000, Accuracy: 2144/10000 (21%)\n",
      "\n",
      "\n",
      "Test set: Average loss: 0.0000, Accuracy: 2341/10000 (23%)\n",
      "\n",
      "\n",
      "Test set: Average loss: 0.0000, Accuracy: 2539/10000 (25%)\n",
      "\n",
      "\n",
      "Test set: Average loss: 0.0000, Accuracy: 2734/10000 (27%)\n",
      "\n",
      "\n",
      "Test set: Average loss: 0.0000, Accuracy: 2932/10000 (29%)\n",
      "\n",
      "\n",
      "Test set: Average loss: 0.0000, Accuracy: 3130/10000 (31%)\n",
      "\n",
      "\n",
      "Test set: Average loss: 0.0000, Accuracy: 3326/10000 (33%)\n",
      "\n",
      "\n",
      "Test set: Average loss: 0.0000, Accuracy: 3519/10000 (35%)\n",
      "\n",
      "\n",
      "Test set: Average loss: 0.0000, Accuracy: 3716/10000 (37%)\n",
      "\n",
      "\n",
      "Test set: Average loss: 0.0000, Accuracy: 3913/10000 (39%)\n",
      "\n",
      "\n",
      "Test set: Average loss: 0.0000, Accuracy: 4108/10000 (41%)\n",
      "\n",
      "\n",
      "Test set: Average loss: 0.0000, Accuracy: 4306/10000 (43%)\n",
      "\n",
      "\n",
      "Test set: Average loss: 0.0000, Accuracy: 4502/10000 (45%)\n",
      "\n",
      "\n",
      "Test set: Average loss: 0.0000, Accuracy: 4697/10000 (46%)\n",
      "\n",
      "\n",
      "Test set: Average loss: 0.0000, Accuracy: 4893/10000 (48%)\n",
      "\n",
      "\n",
      "Test set: Average loss: 0.0000, Accuracy: 5087/10000 (50%)\n",
      "\n",
      "\n",
      "Test set: Average loss: 0.0000, Accuracy: 5282/10000 (52%)\n",
      "\n",
      "\n",
      "Test set: Average loss: 0.0000, Accuracy: 5479/10000 (54%)\n",
      "\n",
      "\n",
      "Test set: Average loss: 0.0000, Accuracy: 5672/10000 (56%)\n",
      "\n",
      "\n",
      "Test set: Average loss: 0.0000, Accuracy: 5870/10000 (58%)\n",
      "\n",
      "\n",
      "Test set: Average loss: 0.0000, Accuracy: 6064/10000 (60%)\n",
      "\n"
     ]
    },
    {
     "name": "stdout",
     "output_type": "stream",
     "text": [
      "\n",
      "Test set: Average loss: 0.0000, Accuracy: 6260/10000 (62%)\n",
      "\n",
      "\n",
      "Test set: Average loss: 0.0000, Accuracy: 6457/10000 (64%)\n",
      "\n",
      "\n",
      "Test set: Average loss: 0.0000, Accuracy: 6651/10000 (66%)\n",
      "\n",
      "\n",
      "Test set: Average loss: 0.0000, Accuracy: 6849/10000 (68%)\n",
      "\n",
      "\n",
      "Test set: Average loss: 0.0000, Accuracy: 7043/10000 (70%)\n",
      "\n",
      "\n",
      "Test set: Average loss: 0.0000, Accuracy: 7238/10000 (72%)\n",
      "\n",
      "\n",
      "Test set: Average loss: 0.0000, Accuracy: 7435/10000 (74%)\n",
      "\n",
      "\n",
      "Test set: Average loss: 0.0000, Accuracy: 7632/10000 (76%)\n",
      "\n",
      "\n",
      "Test set: Average loss: 0.0000, Accuracy: 7828/10000 (78%)\n",
      "\n",
      "\n",
      "Test set: Average loss: 0.0000, Accuracy: 8024/10000 (80%)\n",
      "\n",
      "\n",
      "Test set: Average loss: 0.0000, Accuracy: 8218/10000 (82%)\n",
      "\n",
      "\n",
      "Test set: Average loss: 0.0000, Accuracy: 8411/10000 (84%)\n",
      "\n",
      "\n",
      "Test set: Average loss: 0.0000, Accuracy: 8607/10000 (86%)\n",
      "\n",
      "\n",
      "Test set: Average loss: 0.0000, Accuracy: 8807/10000 (88%)\n",
      "\n",
      "\n",
      "Test set: Average loss: 0.0000, Accuracy: 9003/10000 (90%)\n",
      "\n",
      "\n",
      "Test set: Average loss: 0.0000, Accuracy: 9199/10000 (91%)\n",
      "\n",
      "\n",
      "Test set: Average loss: 0.0000, Accuracy: 9395/10000 (93%)\n",
      "\n",
      "\n",
      "Test set: Average loss: 0.0000, Accuracy: 9591/10000 (95%)\n",
      "\n",
      "\n",
      "Test set: Average loss: 0.0000, Accuracy: 9786/10000 (97%)\n",
      "\n"
     ]
    }
   ],
   "source": [
    "for epoch in range(epochs):\n",
    "    for batch_idx, (data, target) in enumerate(train_loader):\n",
    "        data, target = Variable(data), Variable(target)\n",
    "        # resize data from (batch_size, 1, 28, 28) to (batch_size, 28*28)\n",
    "        data = data.view(-1, 28*28)\n",
    "        data = data.to(device)\n",
    "        target = target.to(device)\n",
    "        optimizer.zero_grad()\n",
    "        net_out = net(data)\n",
    "        loss = criterion(net_out, target)\n",
    "        loss.backward()\n",
    "        optimizer.step()\n",
    "        if batch_idx % log_interval == 0:\n",
    "            print('Train Epoch: {} [{}/{} ({:.0f}%)]\\tLoss: {:.6f}'.format(\n",
    "                epoch,\n",
    "                batch_idx * len(data),\n",
    "                len(train_loader.dataset),\n",
    "                100. * batch_idx / len(train_loader),\n",
    "                loss.data[0]\n",
    "            )\n",
    "        )\n",
    "\n",
    "    # run a test loop\n",
    "test_loss = 0\n",
    "correct = 0\n",
    "for data, target in test_loader:\n",
    "    data, target = Variable(data, volatile=True), Variable(target)\n",
    "    data = data.view(-1, 28 * 28)\n",
    "    data = data.to(device)\n",
    "    target = target.to(device)\n",
    "    net_out = net(data)\n",
    "    # sum up batch loss\n",
    "    test_loss += criterion(net_out, target).data[0]\n",
    "    pred = net_out.data.max(1)[1]  # get the index of the max log-probability\n",
    "    correct += pred.eq(target.data).sum()\n",
    "    test_loss /= len(test_loader.dataset)\n",
    "    print('\\nTest set: Average loss: {:.4f}, Accuracy: {}/{} ({:.0f}%)\\n'.format(\n",
    "        test_loss,\n",
    "        correct,\n",
    "        len(test_loader.dataset),\n",
    "        100. * correct / len(test_loader.dataset))\n",
    "    )"
   ]
  },
  {
   "cell_type": "code",
   "execution_count": 50,
   "metadata": {},
   "outputs": [],
   "source": [
    "a = torch.rand(10000, 10000)\n",
    "b = torch.rand(10000, 10000)"
   ]
  },
  {
   "cell_type": "code",
   "execution_count": 52,
   "metadata": {},
   "outputs": [
    {
     "name": "stdout",
     "output_type": "stream",
     "text": [
      "CPU times: user 1min 21s, sys: 644 ms, total: 1min 22s\n",
      "Wall time: 4.65 s\n"
     ]
    },
    {
     "data": {
      "text/plain": [
       "tensor([[ 2506.7471,  2495.0217,  2498.4839,  ...,  2529.3350,\n",
       "          2506.5103,  2484.4294],\n",
       "        [ 2501.4666,  2490.8452,  2501.4294,  ...,  2515.9888,\n",
       "          2498.2966,  2472.1545],\n",
       "        [ 2512.6753,  2509.8667,  2492.7029,  ...,  2524.4434,\n",
       "          2503.6060,  2469.2080],\n",
       "        ...,\n",
       "        [ 2499.3472,  2510.8064,  2500.6414,  ...,  2522.5752,\n",
       "          2488.1218,  2479.3989],\n",
       "        [ 2498.7332,  2515.1230,  2482.9761,  ...,  2525.3154,\n",
       "          2502.9756,  2485.4617],\n",
       "        [ 2502.6255,  2479.3650,  2496.1970,  ...,  2532.7366,\n",
       "          2495.4912,  2488.6138]])"
      ]
     },
     "execution_count": 52,
     "metadata": {},
     "output_type": "execute_result"
    }
   ],
   "source": [
    "%time a.matmul(b)"
   ]
  },
  {
   "cell_type": "code",
   "execution_count": 53,
   "metadata": {},
   "outputs": [],
   "source": [
    "a = a.cuda()\n",
    "b = b.cuda()"
   ]
  },
  {
   "cell_type": "code",
   "execution_count": 54,
   "metadata": {},
   "outputs": [
    {
     "name": "stdout",
     "output_type": "stream",
     "text": [
      "CPU times: user 4 ms, sys: 0 ns, total: 4 ms\n",
      "Wall time: 2.41 ms\n"
     ]
    },
    {
     "data": {
      "text/plain": [
       "tensor([[ 2506.7427,  2495.0146,  2498.4790,  ...,  2529.3384,\n",
       "          2506.5112,  2484.4333],\n",
       "        [ 2501.4583,  2490.8447,  2501.4258,  ...,  2515.9851,\n",
       "          2498.2954,  2472.1621],\n",
       "        [ 2512.6772,  2509.8589,  2492.7065,  ...,  2524.4436,\n",
       "          2503.6018,  2469.2053],\n",
       "        ...,\n",
       "        [ 2499.3435,  2510.8057,  2500.6392,  ...,  2522.5706,\n",
       "          2488.1260,  2479.3970],\n",
       "        [ 2498.7275,  2515.1238,  2482.9858,  ...,  2525.3220,\n",
       "          2502.9827,  2485.4604],\n",
       "        [ 2502.6230,  2479.3679,  2496.1943,  ...,  2532.7329,\n",
       "          2495.4917,  2488.6091]], device='cuda:0')"
      ]
     },
     "execution_count": 54,
     "metadata": {},
     "output_type": "execute_result"
    }
   ],
   "source": [
    "%time a.matmul(b)"
   ]
  },
  {
   "cell_type": "code",
   "execution_count": 55,
   "metadata": {},
   "outputs": [],
   "source": [
    "xx = Variable(torch.ones(2, 2), requires_grad=True)"
   ]
  },
  {
   "cell_type": "code",
   "execution_count": 56,
   "metadata": {},
   "outputs": [],
   "source": [
    "yy = xx.mean()"
   ]
  },
  {
   "cell_type": "code",
   "execution_count": 58,
   "metadata": {},
   "outputs": [],
   "source": [
    "xx.grad"
   ]
  },
  {
   "cell_type": "code",
   "execution_count": 59,
   "metadata": {},
   "outputs": [],
   "source": [
    "yy.backward()"
   ]
  },
  {
   "cell_type": "code",
   "execution_count": 60,
   "metadata": {},
   "outputs": [
    {
     "data": {
      "text/plain": [
       "tensor([[ 0.2500,  0.2500],\n",
       "        [ 0.2500,  0.2500]])"
      ]
     },
     "execution_count": 60,
     "metadata": {},
     "output_type": "execute_result"
    }
   ],
   "source": [
    "xx.grad"
   ]
  },
  {
   "cell_type": "code",
   "execution_count": 61,
   "metadata": {},
   "outputs": [
    {
     "data": {
      "text/plain": [
       "tensor([[ 1.,  1.],\n",
       "        [ 1.,  1.]])"
      ]
     },
     "execution_count": 61,
     "metadata": {},
     "output_type": "execute_result"
    }
   ],
   "source": [
    "xx.data"
   ]
  },
  {
   "cell_type": "code",
   "execution_count": 62,
   "metadata": {},
   "outputs": [],
   "source": [
    "xx.grad_fn"
   ]
  },
  {
   "cell_type": "code",
   "execution_count": 63,
   "metadata": {},
   "outputs": [
    {
     "data": {
      "text/plain": [
       "<MeanBackward1 at 0x7fd053f02f28>"
      ]
     },
     "execution_count": 63,
     "metadata": {},
     "output_type": "execute_result"
    }
   ],
   "source": [
    "yy.grad_fn"
   ]
  },
  {
   "cell_type": "code",
   "execution_count": 70,
   "metadata": {},
   "outputs": [],
   "source": [
    "def get_data():\n",
    "    train_X = np.asarray([3.3, 4.4, 5.5, 6.71, 6.93, 4.168, 9.779, 6.182, 7.59, 2.167, 7.042,\n",
    "                         10.791, 5.313, 7.997, 5.654, 9.27, 3.1])\n",
    "    train_Y = np.asarray([1.7, 2.76, 2.09, 3.19, 1.694, 1.573, 3.336, 2.596, 2.53, 1.221, 2.827,\n",
    "                         3.465, 1.65, 2.904, 2.42, 2.94, 1.3])\n",
    "    #print(train_X.shape)\n",
    "    #print(train_Y.shape)\n",
    "    dtype = torch.FloatTensor\n",
    "    X = Variable(torch.from_numpy(train_X).type(dtype), requires_grad=False).view(17, 1)\n",
    "    y = Variable(torch.from_numpy(train_Y).type(dtype), requires_grad=False)\n",
    "    return X, y"
   ]
  },
  {
   "cell_type": "code",
   "execution_count": 71,
   "metadata": {},
   "outputs": [],
   "source": [
    "def get_weights():\n",
    "    w = Variable(torch.randn(1), requires_grad=True)\n",
    "    b = Variable(torch.randn(1), requires_grad=True)\n",
    "    return w, b"
   ]
  },
  {
   "cell_type": "code",
   "execution_count": 72,
   "metadata": {},
   "outputs": [],
   "source": [
    "def simple_network(x):\n",
    "    y_pred = torch.matmul(x, w) + b\n",
    "    return y_pred"
   ]
  },
  {
   "cell_type": "code",
   "execution_count": 73,
   "metadata": {},
   "outputs": [],
   "source": [
    "def loss_fn(y, y_pred):\n",
    "    loss = (y_pred - y).pow(2).sum()\n",
    "    for param in [w, b]:\n",
    "        if not param.grad is None:\n",
    "            param.grad.data.zero_()\n",
    "    loss.backward()\n",
    "    return loss.data[0]"
   ]
  },
  {
   "cell_type": "code",
   "execution_count": null,
   "metadata": {},
   "outputs": [],
   "source": []
  }
 ],
 "metadata": {
  "kernelspec": {
   "display_name": "Python 3",
   "language": "python",
   "name": "python3"
  },
  "language_info": {
   "codemirror_mode": {
    "name": "ipython",
    "version": 3
   },
   "file_extension": ".py",
   "mimetype": "text/x-python",
   "name": "python",
   "nbconvert_exporter": "python",
   "pygments_lexer": "ipython3",
   "version": "3.6.6"
  }
 },
 "nbformat": 4,
 "nbformat_minor": 2
}
